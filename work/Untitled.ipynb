{
 "cells": [
  {
   "cell_type": "code",
   "execution_count": 10,
   "metadata": {},
   "outputs": [],
   "source": [
    "fn hoge() {\n",
    "    let mut a1 = [5, 4, 3, 2];      // 配列。[i32; 4]型\n",
    "    let s1 = &mut a1[1..3];         // 可変のスライス。&mut[i32]型\n",
    "    s1[0] = 6;                      // スライスの最初の要素を6にする\n",
    "    s1[1] *= 10;                    // 2番目の要素を10倍する\n",
    "    s1.swap(0, 1);                  // 要素を交換する\n",
    "    assert_eq!(s1, [30, 6]);        // スライスの内容を確認\n",
    "\n",
    "    // 参照元の配列の内容を確認\n",
    "    assert_eq!(a1, [5, 30, 6, 2]);  // スライスを通じて配列の内容が変更された\n",
    "\n",
    "    let a2: [i32; 0] = [];\n",
    "    let s2 = &a2;                              // 不変のスライスを作成\n",
    "    assert!(s2.is_empty());                    // 空のスライス\n",
    "    assert_eq!(s2.len(),   0);                 // 長さは0\n",
    "    assert_eq!(s2.first(), None);              // 最初の要素は存在しない\n",
    "\n",
    "    let a3 = [\"zero\", \"one\", \"two\", \"three\", \"four\"];\n",
    "    let s3 = &a3[1..4];                        // 不変のスライスを作成\n",
    "    assert!(!s3.is_empty());                   // 空ではない\n",
    "    assert_eq!(s3.len(),   3);                 // 長さは3\n",
    "    assert_eq!(s3.first(), Some(&\"one\"));      // 最初の要素\n",
    "\n",
    "    assert_eq!(s3[1],      \"two\");             // 2番目の要素\n",
    "    // assert_eq!(s3[3],   \"?\");               // 4番目の要素。存在しないのでpanicする\n",
    "    assert_eq!(s3.get(1),  Some(&\"two\"));      // 2番目の要素を得る別の方法\n",
    "    assert_eq!(s3.get(3),  None);              // 4番目の要素。存在しないのでNone\n",
    "\n",
    "    assert!(s3.contains(&\"two\"));              // \"two\"を要素に持つ\n",
    "    assert!(s3.starts_with(&[\"one\", \"two\"]));  // \"one\", \"two\"で始まる\n",
    "    assert!(s3.ends_with(&[\"two\", \"three\"]));  // \"two\", \"three\"で終わる\n",
    "\n",
    "    let mut a4 = [6, 4, 2, 8, 0, 9, 4, 3, 7, 5, 1, 7];\n",
    "\n",
    "    // 一部の要素を昇順にソートする\n",
    "    &mut a4[2..6].sort();\n",
    "    assert_eq!(&a4[2..6], &[0, 2, 8, 9]);\n",
    "\n",
    "    // スライスを2つの可変スライスへ分割する\n",
    "    #[allow(unused_variables)]\n",
    "    let (s4a, s4b) = &mut a4.split_at_mut(5);\n",
    "\n",
    "    // &mutを省略しても結果は同じ。型強制によって自動的にスライスが作られる\n",
    "    a4[2..6].sort();\n",
    "    let (s4a, s4b) = a4.split_at_mut(5);\n",
    "\n",
    "    // 前半を逆順にする\n",
    "    s4a.reverse();\n",
    "    assert_eq!(s4a, &[8, 2, 0, 4, 6]);\n",
    "\n",
    "    // 後半を昇順にソートする\n",
    "    s4b.sort_unstable();\n",
    "    assert_eq!(s4b, &[1, 3, 4, 5, 7, 7, 9]);\n",
    "\n",
    "    // sort()とsort_unstable()の違い\n",
    "    // sort()は安定ソートなので同順なデータのソート前の順序がソート後も保存される\n",
    "    // soft_unstable()は安定ソートではないが、一般的にsort()より高速\n",
    "}"
   ]
  },
  {
   "cell_type": "code",
   "execution_count": 11,
   "metadata": {},
   "outputs": [],
   "source": [
    "hoge();"
   ]
  },
  {
   "cell_type": "code",
   "execution_count": null,
   "metadata": {},
   "outputs": [],
   "source": []
  },
  {
   "cell_type": "code",
   "execution_count": null,
   "metadata": {},
   "outputs": [],
   "source": []
  }
 ],
 "metadata": {
  "kernelspec": {
   "display_name": "Rust",
   "language": "rust",
   "name": "rust"
  },
  "language_info": {
   "codemirror_mode": "rust",
   "file_extension": ".rs",
   "mimetype": "text/rust",
   "name": "Rust",
   "pygment_lexer": "rust",
   "version": ""
  }
 },
 "nbformat": 4,
 "nbformat_minor": 4
}
